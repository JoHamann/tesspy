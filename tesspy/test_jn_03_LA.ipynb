{
 "cells": [
  {
   "cell_type": "code",
   "execution_count": 2,
   "id": "efficient-cutting",
   "metadata": {},
   "outputs": [],
   "source": [
    "%config Completer.use_jedi = False"
   ]
  },
  {
   "cell_type": "code",
   "execution_count": 3,
   "id": "exotic-wireless",
   "metadata": {},
   "outputs": [],
   "source": [
    "from tessellation import Tessellation"
   ]
  },
  {
   "cell_type": "markdown",
   "id": "stunning-lexington",
   "metadata": {},
   "source": [
    "# Create Tessllation Object"
   ]
  },
  {
   "cell_type": "code",
   "execution_count": 4,
   "id": "separated-panama",
   "metadata": {},
   "outputs": [],
   "source": [
    "los_angeles= Tessellation('Los Angeles')"
   ]
  },
  {
   "cell_type": "code",
   "execution_count": 5,
   "id": "coral-graphic",
   "metadata": {},
   "outputs": [],
   "source": [
    "los_angeles_poly=los_angeles.get_polygon()"
   ]
  },
  {
   "cell_type": "code",
   "execution_count": 6,
   "id": "eastern-hearts",
   "metadata": {},
   "outputs": [
    {
     "data": {
      "text/html": [
       "<div>\n",
       "<style scoped>\n",
       "    .dataframe tbody tr th:only-of-type {\n",
       "        vertical-align: middle;\n",
       "    }\n",
       "\n",
       "    .dataframe tbody tr th {\n",
       "        vertical-align: top;\n",
       "    }\n",
       "\n",
       "    .dataframe thead th {\n",
       "        text-align: right;\n",
       "    }\n",
       "</style>\n",
       "<table border=\"1\" class=\"dataframe\">\n",
       "  <thead>\n",
       "    <tr style=\"text-align: right;\">\n",
       "      <th></th>\n",
       "      <th>osm_id</th>\n",
       "      <th>geometry</th>\n",
       "    </tr>\n",
       "  </thead>\n",
       "  <tbody>\n",
       "    <tr>\n",
       "      <th>0</th>\n",
       "      <td>207359</td>\n",
       "      <td>POLYGON ((-118.66818 34.18771, -118.66817 34.1...</td>\n",
       "    </tr>\n",
       "  </tbody>\n",
       "</table>\n",
       "</div>"
      ],
      "text/plain": [
       "   osm_id                                           geometry\n",
       "0  207359  POLYGON ((-118.66818 34.18771, -118.66817 34.1..."
      ]
     },
     "execution_count": 6,
     "metadata": {},
     "output_type": "execute_result"
    }
   ],
   "source": [
    "los_angeles_poly"
   ]
  },
  {
   "cell_type": "code",
   "execution_count": 7,
   "id": "configured-floor",
   "metadata": {},
   "outputs": [
    {
     "data": {
      "image/png": "[encoded data removed]",
      "text/plain": [
       "<Figure size 432x288 with 1 Axes>"
      ]
     },
     "metadata": {
      "needs_background": "light"
     },
     "output_type": "display_data"
    }
   ],
   "source": [
    "los_angeles_poly.plot().set_axis_off();"
   ]
  },
  {
   "cell_type": "markdown",
   "id": "permanent-allah",
   "metadata": {},
   "source": [
    "# Squares and Hexagons"
   ]
  },
  {
   "cell_type": "code",
   "execution_count": 8,
   "id": "japanese-botswana",
   "metadata": {
    "scrolled": false
   },
   "outputs": [
    {
     "name": "stderr",
     "output_type": "stream",
     "text": [
      "/home/siavash/anaconda3/envs/geospatial/lib/python3.6/site-packages/geopandas/plotting.py:607: UserWarning: The GeoDataFrame you are attempting to plot is empty. Nothing has been displayed.\n",
      "  UserWarning,\n"
     ]
    },
    {
     "data": {
      "image/png": "[encoded data removed]",
      "text/plain": [
       "<Figure size 432x288 with 1 Axes>"
      ]
     },
     "metadata": {
      "needs_background": "light"
     },
     "output_type": "display_data"
    }
   ],
   "source": [
    "los_angeles_hex=los_angeles.hexagons(8)\n",
    "los_angeles_hex.plot(lw=1, edgecolor='w').set_axis_off();"
   ]
  },
  {
   "cell_type": "code",
   "execution_count": 10,
   "id": "whole-value",
   "metadata": {},
   "outputs": [
    {
     "data": {
      "image/png": "[encoded data removed]",
      "text/plain": [
       "<Figure size 432x288 with 1 Axes>"
      ]
     },
     "metadata": {
      "needs_background": "light"
     },
     "output_type": "display_data"
    }
   ],
   "source": [
    "los_angeles_sqr=los_angeles.squares(16)\n",
    "los_angeles_sqr.plot(lw=0.5, edgecolor='w').set_axis_off();"
   ]
  },
  {
   "cell_type": "markdown",
   "id": "legal-antique",
   "metadata": {},
   "source": [
    "# Voronoi"
   ]
  },
  {
   "cell_type": "code",
   "execution_count": 11,
   "id": "reliable-guarantee",
   "metadata": {},
   "outputs": [
    {
     "name": "stdout",
     "output_type": "stream",
     "text": [
      "Getting data from OSM...\n"
     ]
    },
    {
     "name": "stderr",
     "output_type": "stream",
     "text": [
      "100% (4692 of 4692) |####################| Elapsed Time: 0:00:00 Time:  0:00:00\n"
     ]
    },
    {
     "name": "stdout",
     "output_type": "stream",
     "text": [
      "Creating POI DataFrame...\n",
      "Cleaning POI DataFrame...\n",
      "K-Means Clustering...\n",
      "Creating Voronoi polygons...\n"
     ]
    }
   ],
   "source": [
    "los_angeles_voronoi= los_angeles.voronoi(cluster_algo='k-means',\n",
    "                        poi_categories=['public_transport'],\n",
    "                        timeout=60,\n",
    "                        n_polygons=500,\n",
    "                        verbose=True)"
   ]
  },
  {
   "cell_type": "code",
   "execution_count": 12,
   "id": "victorian-table",
   "metadata": {},
   "outputs": [
    {
     "name": "stdout",
     "output_type": "stream",
     "text": [
      "483 polygons\n"
     ]
    },
    {
     "data": {
      "image/png": "[encoded data removed]",
      "text/plain": [
       "<Figure size 432x288 with 1 Axes>"
      ]
     },
     "metadata": {
      "needs_background": "light"
     },
     "output_type": "display_data"
    }
   ],
   "source": [
    "los_angeles_voronoi.plot(lw=1, edgecolor='w').set_axis_off();\n",
    "print(len(los_angeles_voronoi), 'polygons')"
   ]
  },
  {
   "cell_type": "code",
   "execution_count": 14,
   "id": "varying-franchise",
   "metadata": {},
   "outputs": [
    {
     "name": "stdout",
     "output_type": "stream",
     "text": [
      "Getting data from OSM...\n"
     ]
    },
    {
     "name": "stderr",
     "output_type": "stream",
     "text": [
      "100% (4394 of 4394) |####################| Elapsed Time: 0:00:00 Time:  0:00:00\n"
     ]
    },
    {
     "name": "stdout",
     "output_type": "stream",
     "text": [
      "Creating POI DataFrame...\n",
      "Cleaning POI DataFrame...\n",
      "K-Means Clustering...\n",
      "Creating Voronoi polygons...\n"
     ]
    }
   ],
   "source": [
    "los_angeles_voronoi= los_angeles.voronoi(cluster_algo='k-means',\n",
    "                        poi_categories=['shop'],\n",
    "                        timeout=60,\n",
    "                        n_polygons=100,\n",
    "                        verbose=True)"
   ]
  },
  {
   "cell_type": "code",
   "execution_count": 15,
   "id": "lasting-climb",
   "metadata": {},
   "outputs": [
    {
     "name": "stdout",
     "output_type": "stream",
     "text": [
      "100 polygons\n"
     ]
    },
    {
     "data": {
      "image/png": "[encoded data removed]",
      "text/plain": [
       "<Figure size 432x288 with 1 Axes>"
      ]
     },
     "metadata": {
      "needs_background": "light"
     },
     "output_type": "display_data"
    }
   ],
   "source": [
    "los_angeles_voronoi.plot(lw=1, edgecolor='w').set_axis_off();\n",
    "print(len(los_angeles_voronoi), 'polygons')"
   ]
  },
  {
   "cell_type": "code",
   "execution_count": 16,
   "id": "italic-number",
   "metadata": {},
   "outputs": [
    {
     "data": {
      "text/html": [
       "<div>\n",
       "<style scoped>\n",
       "    .dataframe tbody tr th:only-of-type {\n",
       "        vertical-align: middle;\n",
       "    }\n",
       "\n",
       "    .dataframe tbody tr th {\n",
       "        vertical-align: top;\n",
       "    }\n",
       "\n",
       "    .dataframe thead th {\n",
       "        text-align: right;\n",
       "    }\n",
       "</style>\n",
       "<table border=\"1\" class=\"dataframe\">\n",
       "  <thead>\n",
       "    <tr style=\"text-align: right;\">\n",
       "      <th></th>\n",
       "      <th>type</th>\n",
       "      <th>geometry</th>\n",
       "      <th>tags</th>\n",
       "      <th>center_latitude</th>\n",
       "      <th>center_longitude</th>\n",
       "      <th>public_transport</th>\n",
       "      <th>shop</th>\n",
       "    </tr>\n",
       "  </thead>\n",
       "  <tbody>\n",
       "    <tr>\n",
       "      <th>331</th>\n",
       "      <td>node</td>\n",
       "      <td>[{'lat': 34.0650258, 'lon': -118.248924}]</td>\n",
       "      <td>{'bench': 'yes', 'bus': 'yes', 'highway': 'bus...</td>\n",
       "      <td>34.065026</td>\n",
       "      <td>-118.248924</td>\n",
       "      <td>True</td>\n",
       "      <td>False</td>\n",
       "    </tr>\n",
       "    <tr>\n",
       "      <th>1025</th>\n",
       "      <td>node</td>\n",
       "      <td>[{'lat': 34.0264383, 'lon': -118.3725319}]</td>\n",
       "      <td>{'light_rail': 'yes', 'name': 'La Cienega/Jeff...</td>\n",
       "      <td>34.026438</td>\n",
       "      <td>-118.372532</td>\n",
       "      <td>True</td>\n",
       "      <td>False</td>\n",
       "    </tr>\n",
       "    <tr>\n",
       "      <th>280</th>\n",
       "      <td>node</td>\n",
       "      <td>[{'lat': 34.0662399, 'lon': -118.2786457}]</td>\n",
       "      <td>{'bus': 'yes', 'highway': 'bus_stop', 'name': ...</td>\n",
       "      <td>34.066240</td>\n",
       "      <td>-118.278646</td>\n",
       "      <td>True</td>\n",
       "      <td>False</td>\n",
       "    </tr>\n",
       "    <tr>\n",
       "      <th>3317</th>\n",
       "      <td>node</td>\n",
       "      <td>[{'lat': 33.9800314, 'lon': -118.407901}]</td>\n",
       "      <td>{'bench': 'no', 'bus': 'yes', 'highway': 'bus_...</td>\n",
       "      <td>33.980031</td>\n",
       "      <td>-118.407901</td>\n",
       "      <td>True</td>\n",
       "      <td>False</td>\n",
       "    </tr>\n",
       "    <tr>\n",
       "      <th>4116</th>\n",
       "      <td>node</td>\n",
       "      <td>[{'lat': 34.0257721, 'lon': -118.3352412}]</td>\n",
       "      <td>{'bench': 'yes', 'bus': 'yes', 'highway': 'bus...</td>\n",
       "      <td>34.025772</td>\n",
       "      <td>-118.335241</td>\n",
       "      <td>True</td>\n",
       "      <td>False</td>\n",
       "    </tr>\n",
       "  </tbody>\n",
       "</table>\n",
       "</div>"
      ],
      "text/plain": [
       "      type                                    geometry  \\\n",
       "331   node   [{'lat': 34.0650258, 'lon': -118.248924}]   \n",
       "1025  node  [{'lat': 34.0264383, 'lon': -118.3725319}]   \n",
       "280   node  [{'lat': 34.0662399, 'lon': -118.2786457}]   \n",
       "3317  node   [{'lat': 33.9800314, 'lon': -118.407901}]   \n",
       "4116  node  [{'lat': 34.0257721, 'lon': -118.3352412}]   \n",
       "\n",
       "                                                   tags  center_latitude  \\\n",
       "331   {'bench': 'yes', 'bus': 'yes', 'highway': 'bus...        34.065026   \n",
       "1025  {'light_rail': 'yes', 'name': 'La Cienega/Jeff...        34.026438   \n",
       "280   {'bus': 'yes', 'highway': 'bus_stop', 'name': ...        34.066240   \n",
       "3317  {'bench': 'no', 'bus': 'yes', 'highway': 'bus_...        33.980031   \n",
       "4116  {'bench': 'yes', 'bus': 'yes', 'highway': 'bus...        34.025772   \n",
       "\n",
       "      center_longitude  public_transport   shop  \n",
       "331        -118.248924              True  False  \n",
       "1025       -118.372532              True  False  \n",
       "280        -118.278646              True  False  \n",
       "3317       -118.407901              True  False  \n",
       "4116       -118.335241              True  False  "
      ]
     },
     "execution_count": 16,
     "metadata": {},
     "output_type": "execute_result"
    }
   ],
   "source": [
    "los_angeles.get_poi_data().sample(5)"
   ]
  },
  {
   "cell_type": "code",
   "execution_count": 17,
   "id": "subsequent-sweet",
   "metadata": {},
   "outputs": [
    {
     "name": "stdout",
     "output_type": "stream",
     "text": [
      "HDBSCAN Clustering... This can take a while...\n",
      "Creating Voronoi polygons...\n"
     ]
    }
   ],
   "source": [
    "los_angeles_voronoi_hdbscan= los_angeles.voronoi(cluster_algo='hdbscan',\n",
    "                                poi_categories=['public_transport'],\n",
    "                                timeout=30,\n",
    "                                min_cluster_size=15,\n",
    "                                verbose=True)"
   ]
  },
  {
   "cell_type": "code",
   "execution_count": 18,
   "id": "southwest-prescription",
   "metadata": {},
   "outputs": [
    {
     "data": {
      "image/png": "[encoded data removed]",
      "text/plain": [
       "<Figure size 432x288 with 1 Axes>"
      ]
     },
     "metadata": {
      "needs_background": "light"
     },
     "output_type": "display_data"
    }
   ],
   "source": [
    "los_angeles_voronoi_hdbscan.plot(lw=1, edgecolor='w').set_axis_off();"
   ]
  },
  {
   "cell_type": "code",
   "execution_count": null,
   "id": "consecutive-exclusive",
   "metadata": {},
   "outputs": [],
   "source": []
  },
  {
   "cell_type": "code",
   "execution_count": null,
   "id": "deluxe-vertex",
   "metadata": {},
   "outputs": [],
   "source": []
  },
  {
   "cell_type": "code",
   "execution_count": null,
   "id": "brilliant-counter",
   "metadata": {},
   "outputs": [],
   "source": []
  },
  {
   "cell_type": "code",
   "execution_count": null,
   "id": "secondary-evening",
   "metadata": {},
   "outputs": [],
   "source": []
  },
  {
   "cell_type": "code",
   "execution_count": null,
   "id": "frozen-worry",
   "metadata": {},
   "outputs": [],
   "source": []
  },
  {
   "cell_type": "code",
   "execution_count": null,
   "id": "adjusted-stream",
   "metadata": {},
   "outputs": [],
   "source": []
  },
  {
   "cell_type": "code",
   "execution_count": null,
   "id": "excessive-suicide",
   "metadata": {},
   "outputs": [],
   "source": []
  },
  {
   "cell_type": "code",
   "execution_count": null,
   "id": "unsigned-marketing",
   "metadata": {},
   "outputs": [],
   "source": []
  },
  {
   "cell_type": "code",
   "execution_count": null,
   "id": "congressional-innocent",
   "metadata": {},
   "outputs": [],
   "source": []
  },
  {
   "cell_type": "code",
   "execution_count": null,
   "id": "secondary-tuition",
   "metadata": {},
   "outputs": [],
   "source": []
  },
  {
   "cell_type": "code",
   "execution_count": null,
   "id": "prostate-wholesale",
   "metadata": {},
   "outputs": [],
   "source": []
  },
  {
   "cell_type": "code",
   "execution_count": null,
   "id": "irish-perth",
   "metadata": {},
   "outputs": [],
   "source": []
  },
  {
   "cell_type": "code",
   "execution_count": null,
   "id": "cosmetic-boulder",
   "metadata": {},
   "outputs": [],
   "source": []
  },
  {
   "cell_type": "code",
   "execution_count": null,
   "id": "backed-skirt",
   "metadata": {},
   "outputs": [],
   "source": []
  }
 ],
 "metadata": {
  "kernelspec": {
   "display_name": "geospatial",
   "language": "python",
   "name": "geospatial"
  },
  "language_info": {
   "codemirror_mode": {
    "name": "ipython",
    "version": 3
   },
   "file_extension": ".py",
   "mimetype": "text/x-python",
   "name": "python",
   "nbconvert_exporter": "python",
   "pygments_lexer": "ipython3",
   "version": "3.6.10"
  }
 },
 "nbformat": 4,
 "nbformat_minor": 5
}
