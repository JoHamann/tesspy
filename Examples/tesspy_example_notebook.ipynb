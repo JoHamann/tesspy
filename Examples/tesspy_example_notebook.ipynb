{
 "cells": [
  {
   "cell_type": "code",
   "execution_count": null,
   "id": "4b6d952e",
   "metadata": {
    "scrolled": true
   },
   "outputs": [],
   "source": [
    "!pip install git+https://github.com/siavash-saki/tesspy"
   ]
  },
  {
   "cell_type": "code",
   "execution_count": null,
   "id": "f89d94eb",
   "metadata": {},
   "outputs": [],
   "source": [
    "import tesspy.tesspy as tp\n",
    "\n",
    "import matplotlib.pyplot as plt\n",
    "import geopandas as gpd\n",
    "\n",
    "import warnings\n",
    "warnings.filterwarnings('ignore')"
   ]
  },
  {
   "cell_type": "code",
   "execution_count": null,
   "id": "71a4f64f",
   "metadata": {},
   "outputs": [],
   "source": [
    "city = \"Frankfurt am Main\"\n",
    "\n",
    "df_city = tp.get_admin_polygon(city)"
   ]
  },
  {
   "cell_type": "code",
   "execution_count": null,
   "id": "0a62b463",
   "metadata": {},
   "outputs": [],
   "source": [
    "POI_FFM = gpd.read_file(\"POI_data_FFM.geojson\")\n",
    "POI_FFM.head()"
   ]
  },
  {
   "cell_type": "code",
   "execution_count": null,
   "id": "acc83943",
   "metadata": {},
   "outputs": [],
   "source": [
    "res_hexagon = 8\n",
    "res_square = 15\n",
    "\n",
    "LGU_hexagons = tp.TessObj.hexagon(df_city,df_city, res_hexagon)\n",
    "LGU_squares = tp.TessObj.quadKey(df_city,df_city, res_square)\n",
    "\n",
    "print(f\"Using resolution {res_hexagon} the tessellation has {LGU_hexagons.shape[0]} LGUs using hexagons.\")\n",
    "print(f\"Using resolution {res_square} the tessellation has {LGU_squares.shape[0]} LGUs using squares.\")"
   ]
  },
  {
   "cell_type": "code",
   "execution_count": null,
   "id": "23b14f08",
   "metadata": {},
   "outputs": [],
   "source": [
    "LGU_aqk = tp.TessObj.adaptive_quadkey(df_city, df_city, POI_FFM, 14)\n",
    "\n",
    "print(f\"Using resolution {14} the tessellation has {LGU_aqk.shape[0]} LGUs using adaptive squares.\")"
   ]
  },
  {
   "cell_type": "code",
   "execution_count": null,
   "id": "76ae8f6b",
   "metadata": {},
   "outputs": [],
   "source": [
    "LGU_cb = tp.TessObj.cityblocks(df_city,df_city)\n",
    "\n",
    "print(f\"Using city blocks the tessellation has {LGU_cb.shape[0]} LGUs.\")"
   ]
  },
  {
   "cell_type": "code",
   "execution_count": null,
   "id": "b94865e1",
   "metadata": {},
   "outputs": [],
   "source": [
    "LGU_v_km = tp.TessObj.voronoi(df_city,df_city,POI_FFM)\n",
    "LGU_v_h = tp.TessObj.voronoi(df_city,df_city,POI_FFM, cluster_algo=\"hdbscan\")"
   ]
  },
  {
   "cell_type": "code",
   "execution_count": null,
   "id": "021d811b",
   "metadata": {},
   "outputs": [],
   "source": [
    "fig, axes = plt.subplots(2,3, figsize=(20,10))\n",
    "\n",
    "df_city.boundary.plot(ax=axes[0][0], color='black')\n",
    "LGU_hexagons.boundary.plot(ax=axes[0][0], color='blue')\n",
    "axes[0][0].set_axis_off()\n",
    "axes[0][0].set_title(f\"hexagons with res {res_hexagon}\")\n",
    "\n",
    "df_city.boundary.plot(ax=axes[0][1], color='black')\n",
    "LGU_squares.boundary.plot(ax=axes[0][1], color='blue')\n",
    "axes[0][1].set_axis_off()\n",
    "axes[0][1].set_title(f\"squares with res {res_square}\")\n",
    "\n",
    "\n",
    "df_city.boundary.plot(ax=axes[0][2], color='black')\n",
    "LGU_aqk.boundary.plot(ax=axes[0][2], color='blue')\n",
    "axes[0][2].set_axis_off()\n",
    "axes[0][2].set_title(f\"adaptive squares\")\n",
    "\n",
    "df_city.boundary.plot(ax=axes[1][1], color='black')\n",
    "LGU_cb[LGU_cb.geom_type==\"Polygon\"].boundary.plot(ax=axes[1][1], color='blue')\n",
    "axes[1][2].set_axis_off()\n",
    "axes[1][2].set_title(f\"city blocks \")\n",
    "\n",
    "df_city.boundary.plot(ax=axes[1][1], color='black')\n",
    "LGU_v_km.boundary.plot(ax=axes[1][1], color='blue')\n",
    "axes[1][0].set_axis_off()\n",
    "axes[1][0].set_title(f\"Voronoi using kmeans\")\n",
    "\n",
    "df_city.boundary.plot(ax=axes[1][1], color='black')\n",
    "LGU_v_km.boundary.plot(ax=axes[1][1], color='blue')\n",
    "axes[1][1].set_axis_off()\n",
    "axes[1][1].set_title(f\"Voronoi using hier. clustering\")"
   ]
  },
  {
   "cell_type": "code",
   "execution_count": null,
   "id": "a1f72f9e",
   "metadata": {},
   "outputs": [],
   "source": []
  }
 ],
 "metadata": {
  "kernelspec": {
   "display_name": "Python [conda env:py37env] *",
   "language": "python",
   "name": "conda-env-py37env-py"
  },
  "language_info": {
   "codemirror_mode": {
    "name": "ipython",
    "version": 3
   },
   "file_extension": ".py",
   "mimetype": "text/x-python",
   "name": "python",
   "nbconvert_exporter": "python",
   "pygments_lexer": "ipython3",
   "version": "3.7.11"
  }
 },
 "nbformat": 4,
 "nbformat_minor": 5
}
